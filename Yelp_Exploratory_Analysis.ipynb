{
 "cells": [
  {
   "cell_type": "markdown",
   "metadata": {},
   "source": [
    "#Exploratory Analysis -- Yelp"
   ]
  },
  {
   "cell_type": "markdown",
   "metadata": {},
   "source": [
    "## I. Problem Statement & Background"
   ]
  },
  {
   "cell_type": "markdown",
   "metadata": {},
   "source": [
    "Due to Yelp’s ability to reach tons of customers and attract crowds of foot traffic, restaurants are always trying to optimize their yelp ratings. However, what are the drivers behind yelp ratings? What separates a two star restaurant from a four star restaurant? Does ambiance contribute to the rating? What about distance from the geographic city center? There are a variety of features that could potentially contribute to businesses’ Yelp rating, and we want to discover what those are and to what degree they matter. At the end we will look at multiple factors and see what correlates most highly to a positive restaurant rating. "
   ]
  },
  {
   "cell_type": "markdown",
   "metadata": {},
   "source": [
    "## II. Sources Intend For Use"
   ]
  },
  {
   "cell_type": "markdown",
   "metadata": {},
   "source": [
    "The data we intend to use comes from the following link: http://www.yelp.com/dataset_challenge. This data has been made available by Yelp for the purpose of the Yelp Dataset Challenge. In particular, the challenge dataset contains the following data: \n",
    "\n",
    "1.6M reviews and 500K tips by 366K users for 61K businesses\n",
    "481K business attributes, e.g., hours, parking availability, ambience.\n",
    "Social network of 366K users for a total of 2.9M social edges.\n",
    "Aggregated check-ins over time for each of the 61K businesses\n",
    "\n",
    "Businesses reviewed in this dataset are located in the following cities around the world:\n",
    "U.K.: Edinburgh\n",
    "Germany: Karlsruhe\n",
    "Canada: Montreal and Waterloo\n",
    "U.S.: Pittsburgh, Charlotte, Urbana-Champaign, Phoenix, Las Vegas, Madison\n",
    "\n",
    "This data is stored as 5 different datasets, a business dataset, a checkin dataset, a review dataset, a tip dataset, and a user dataset. We have these datasets represented as 5 different pandas dataframes. All except the user dataset can be joined on the primary key business_id to form one big dataset of business information. If necessary we may collect more business data using the Yelp API.\n"
   ]
  },
  {
   "cell_type": "markdown",
   "metadata": {},
   "source": [
    "## III. Data Flaws/Weaknesses and Cleaning (4 points)"
   ]
  },
  {
   "cell_type": "markdown",
   "metadata": {},
   "source": [
    "Though some columns of the data are sparse and are sometimes left empty, such as business attributes, business hours, and neighborhoods located in, the columns we need for our project, mainly the review rating and review text are required fields and are never left empty. \n",
    "\n",
    "We decided we wanted to focus our project on only restaurant businesses so using a comprehensive list of all Yelp business categories found here: http://www.localvisibilitysystem.com/2013/07/19/yelp-business-categories-list/\n",
    "\n",
    "We were able to filter out non-restaurants from our dataset, and we also fixed a potential flaw in the data by filtering out restaurants with no ratings at all, and restaurants which had no text reviews. We ended up with about 110 potential dining categories. These categories included Nightlife, Bars, American, Burgers, Breakfast & Brunch, to name a few."
   ]
  },
  {
   "cell_type": "markdown",
   "metadata": {},
   "source": [
    "## IV. Basic Data Characteristics (4 points)"
   ]
  },
  {
   "cell_type": "code",
   "execution_count": 54,
   "metadata": {
    "collapsed": false
   },
   "outputs": [],
   "source": [
    "import json\n",
    "import pandas as pd\n",
    "import sys\n",
    "import os\n",
    "import numpy as np\n",
    "%matplotlib inline"
   ]
  },
  {
   "cell_type": "code",
   "execution_count": 55,
   "metadata": {
    "collapsed": false
   },
   "outputs": [],
   "source": [
    "#Load Biz Dataset into DF\n",
    "biz_data = []\n",
    "biz_fn = 'yelp_dataset_challenge_academic_dataset/yelp_academic_dataset_business.json'\n",
    "with open(biz_fn) as data_file:\n",
    "    for line in data_file:\n",
    "        biz_data.append(json.loads(line))\n",
    "biz_df = pd.DataFrame(biz_data)"
   ]
  },
  {
   "cell_type": "markdown",
   "metadata": {},
   "source": [
    "### Filtering to keep only Restaurants"
   ]
  },
  {
   "cell_type": "markdown",
   "metadata": {},
   "source": [
    "Here we read in a document containing all the restaurant related categories on Yelp, and then we filter the business data so that only restaurants for whom all categories are restaurant categories remain. We found that businesses on Yelp can be classified under 1 or more categories and it made the most sense to only allow businesses that were entirely restaurants."
   ]
  },
  {
   "cell_type": "code",
   "execution_count": 56,
   "metadata": {
    "collapsed": false
   },
   "outputs": [],
   "source": [
    "#filtering businesses into restaurants\n",
    "category_csv = 'restaurantcategories.csv'\n",
    "all_categories = []\n",
    "restaurants = []\n",
    "with open(category_csv) as categories:\n",
    "    for line in categories:\n",
    "        all_categories.append(line)\n",
    "biz_dict = biz_df.to_dict()\n",
    "all_categories = all_categories[0].split('\\r')\n",
    "for index in biz_dict['categories'].keys():\n",
    "    if len(biz_dict['categories'][index]) == 0:\n",
    "        for col in biz_dict.keys():\n",
    "                del biz_dict[col][index] \n",
    "    elif len(biz_dict['categories'][index]) > 0:\n",
    "        allInCats = True\n",
    "        for elem in biz_dict['categories'][index]:\n",
    "            if elem not in all_categories:\n",
    "                allInCats = False\n",
    "                break;\n",
    "        if not allInCats:\n",
    "            for col in biz_dict.keys():\n",
    "                del biz_dict[col][index] \n",
    "                \n",
    "res_df = pd.DataFrame(biz_dict)    "
   ]
  },
  {
   "cell_type": "markdown",
   "metadata": {},
   "source": [
    "### Graphing Categories vs. Num Restaurants in that Category"
   ]
  },
  {
   "cell_type": "markdown",
   "metadata": {},
   "source": [
    "We wanted to get a feel for what the distribution of restaurant types was across different types such as Mexican, Breakfast, Ethnic, etc."
   ]
  },
  {
   "cell_type": "code",
   "execution_count": null,
   "metadata": {
    "collapsed": true
   },
   "outputs": [],
   "source": [
    "# graphing category counts\n",
    "import numpy as mp\n",
    "import matplotlib.pyplot as plt\n",
    "import operator\n",
    "\n",
    "cats = {}\n",
    "for elem in biz_dict['categories']:\n",
    "    for value in biz_dict['categories'][elem]:\n",
    "        if value in cats:\n",
    "            cats[value] = cats[value] + 1\n",
    "        else:\n",
    "            cats[value] = 1\n",
    "\n",
    "plt.bar(range(len(cats)), cats.values(), align='center', width=3)\n",
    "plt.xticks(range(len(cats)))\n",
    "\n",
    "plt.show()"
   ]
  },
  {
   "cell_type": "markdown",
   "metadata": {},
   "source": [
    "This represents the different categories of restaurants and the number of restaurants in each category. The largest bar is the \"Restaurants\" category which almost every business was tagged under. We ommitted the labels because it was hard to read them all given the number of categories"
   ]
  },
  {
   "cell_type": "code",
   "execution_count": 50,
   "metadata": {
    "collapsed": false
   },
   "outputs": [
    {
     "data": {
      "image/png": "[encoded data removed]",
      "text/plain": [
       "<matplotlib.figure.Figure at 0x128795810>"
      ]
     },
     "metadata": {},
     "output_type": "display_data"
    }
   ],
   "source": [
    "#graphing numreviews vs num restaurants with that num\n",
    "numReviews = {}\n",
    "for elem in biz_dict['review_count']:\n",
    "    value = biz_dict['review_count'][elem]\n",
    "    if value in numReviews:\n",
    "        numReviews[value] = numReviews[value] + 1\n",
    "    else:\n",
    "        numReviews[value] = 1\n",
    "\n",
    "plt.hist(numReviews.values())\n",
    "locs, labels = plt.xticks(range(len(numReviews)), numReviews.keys())\n",
    "plt.setp(labels, rotation=90)\n",
    "plt.show()"
   ]
  },
  {
   "cell_type": "code",
   "execution_count": 51,
   "metadata": {
    "collapsed": false
   },
   "outputs": [
    {
     "data": {
      "image/png": "[encoded data removed]",
      "text/plain": [
       "<matplotlib.figure.Figure at 0x2f4c5b8d0>"
      ]
     },
     "metadata": {},
     "output_type": "display_data"
    },
    {
     "data": {
      "text/plain": [
       "<matplotlib.figure.Figure at 0x12ad37390>"
      ]
     },
     "metadata": {},
     "output_type": "display_data"
    }
   ],
   "source": [
    "#box and whisker plots, summary statistics of num reviews\n",
    "from pylab import *\n",
    "data = []\n",
    "for key in numReviews.keys():\n",
    "    for i in range(0,numReviews[key]):\n",
    "        data.append(key)\n",
    "\n",
    "boxplot(data)\n",
    "figure()\n",
    "show()"
   ]
  },
  {
   "cell_type": "code",
   "execution_count": 46,
   "metadata": {
    "collapsed": false
   },
   "outputs": [],
   "source": [
    "#Load Checkin Dataset into DF\n",
    "checkin_data = []\n",
    "checkin_fn = 'yelp_dataset_challenge_academic_dataset/yelp_academic_dataset_checkin.json'\n",
    "with open(checkin_fn) as data_file:\n",
    "    for line in data_file:\n",
    "        checkin_data.append(json.loads(line))\n",
    "checkin_df = pd.DataFrame(checkin_data)"
   ]
  },
  {
   "cell_type": "code",
   "execution_count": 58,
   "metadata": {
    "collapsed": false
   },
   "outputs": [],
   "source": [
    "#Load review dataset into df\n",
    "review_data = []\n",
    "review_fn = 'yelp_dataset_challenge_academic_dataset/yelp_academic_dataset_review.json'\n",
    "with open(review_fn) as data_file:\n",
    "    for line in data_file:\n",
    "        review_data.append(json.loads(line))\n",
    "review_df = pd.DataFrame(review_data)"
   ]
  },
  {
   "cell_type": "code",
   "execution_count": null,
   "metadata": {
    "collapsed": true
   },
   "outputs": [],
   "source": [
    "#Load tip dataset into df\n",
    "tip_data = []\n",
    "tip_fn = 'yelp_dataset_challenge_academic_dataset/yelp_academic_dataset_tip.json'\n",
    "with open(tip_fn) as data_file:\n",
    "    for line in data_file:\n",
    "        tip_data.append(json.loads(line))\n",
    "tip_df = pd.DataFrame(tip_data)"
   ]
  },
  {
   "cell_type": "code",
   "execution_count": null,
   "metadata": {
    "collapsed": true
   },
   "outputs": [],
   "source": [
    "#Load user dataset into df\n",
    "user_data = []\n",
    "user_fn = 'yelp_dataset_challenge_academic_dataset/yelp_academic_dataset_user.json'\n",
    "with open(user_fn) as data_file:\n",
    "    for line in data_file:\n",
    "        user_data.append(json.loads(line))\n",
    "user_df = pd.DataFrame(user_data)"
   ]
  },
  {
   "cell_type": "markdown",
   "metadata": {
    "collapsed": false
   },
   "source": [
    "## Review Summary Stats"
   ]
  },
  {
   "cell_type": "markdown",
   "metadata": {
    "collapsed": true
   },
   "source": [
    "So we are interested in the summary stats of yelp reviews. To start let us first get an idea of what the distribution of reviews looks like."
   ]
  },
  {
   "cell_type": "code",
   "execution_count": 59,
   "metadata": {
    "collapsed": false
   },
   "outputs": [
    {
     "data": {
      "text/plain": [
       "array([[<matplotlib.axes._subplots.AxesSubplot object at 0x130d65890>]], dtype=object)"
      ]
     },
     "execution_count": 59,
     "metadata": {},
     "output_type": "execute_result"
    },
    {
     "data": {
      "image/png": "[encoded data removed]",
      "text/plain": [
       "<matplotlib.figure.Figure at 0x130ed1d50>"
      ]
     },
     "metadata": {},
     "output_type": "display_data"
    }
   ],
   "source": [
    "review_df.hist(column='stars')"
   ]
  },
  {
   "cell_type": "markdown",
   "metadata": {},
   "source": [
    "So this distribution shows that amongst people who actually write reviews there is a pretty heavy skew towards 4-5 star ratings which is pretty intersting. Now let us see if this corresponds to the rating distribution of restaurants."
   ]
  },
  {
   "cell_type": "code",
   "execution_count": 60,
   "metadata": {
    "collapsed": false
   },
   "outputs": [
    {
     "data": {
      "text/plain": [
       "array([[<matplotlib.axes._subplots.AxesSubplot object at 0x12b508050>]], dtype=object)"
      ]
     },
     "execution_count": 60,
     "metadata": {},
     "output_type": "execute_result"
    },
    {
     "data": {
      "image/png": "[encoded data removed]",
      "text/plain": [
       "<matplotlib.figure.Figure at 0x131128a10>"
      ]
     },
     "metadata": {},
     "output_type": "display_data"
    }
   ],
   "source": [
    "biz_df.hist(column='stars')"
   ]
  },
  {
   "cell_type": "markdown",
   "metadata": {},
   "source": [
    "So this is a much nicer distribution. This distribution is skewed to the right which seems to give some evidence that people tend to give nicer reviews. \n",
    "\n",
    "However, let us first get some summary stats of this biz distribution and of the review distribution."
   ]
  },
  {
   "cell_type": "code",
   "execution_count": 61,
   "metadata": {
    "collapsed": false
   },
   "outputs": [
    {
     "data": {
      "text/plain": [
       "count    61184.000000\n",
       "mean         3.673305\n",
       "std          0.891207\n",
       "min          1.000000\n",
       "25%          3.000000\n",
       "50%          3.500000\n",
       "75%          4.500000\n",
       "max          5.000000\n",
       "Name: stars, dtype: float64"
      ]
     },
     "execution_count": 61,
     "metadata": {},
     "output_type": "execute_result"
    }
   ],
   "source": [
    "biz_df['stars'].describe()"
   ]
  },
  {
   "cell_type": "code",
   "execution_count": 62,
   "metadata": {
    "collapsed": false
   },
   "outputs": [
    {
     "data": {
      "text/plain": [
       "count    1569264.000000\n",
       "mean           3.742656\n",
       "std            1.311468\n",
       "min            1.000000\n",
       "25%            3.000000\n",
       "50%            4.000000\n",
       "75%            5.000000\n",
       "max            5.000000\n",
       "Name: stars, dtype: float64"
      ]
     },
     "execution_count": 62,
     "metadata": {},
     "output_type": "execute_result"
    }
   ],
   "source": [
    "review_df['stars'].describe()"
   ]
  },
  {
   "cell_type": "markdown",
   "metadata": {},
   "source": [
    "So looking at the summary stats, it is pretty clear that these are decent distributions where more of the mass is clustered around the mean for the average biz stars versus individual reviews. Now Let us break this down by category which will be pretty useful."
   ]
  },
  {
   "cell_type": "code",
   "execution_count": null,
   "metadata": {
    "collapsed": false
   },
   "outputs": [
    {
     "data": {
      "image/png": "[encoded data removed]",
      "text/plain": [
       "<matplotlib.figure.Figure at 0x10fdc8150>"
      ]
     },
     "metadata": {},
     "output_type": "display_data"
    },
    {
     "data": {
      "image/png": "[encoded data removed]",
      "text/plain": [
       "<matplotlib.figure.Figure at 0x110cd3050>"
      ]
     },
     "metadata": {},
     "output_type": "display_data"
    },
    {
     "data": {
      "image/png": "[encoded data removed]",
      "text/plain": [
       "<matplotlib.figure.Figure at 0x130af1590>"
      ]
     },
     "metadata": {},
     "output_type": "display_data"
    },
    {
     "data": {
      "image/png": "[encoded data removed]",
      "text/plain": [
       "<matplotlib.figure.Figure at 0x12aeb4810>"
      ]
     },
     "metadata": {},
     "output_type": "display_data"
    },
    {
     "data": {
      "image/png": "[encoded data removed]",
      "text/plain": [
       "<matplotlib.figure.Figure at 0x12aec3dd0>"
      ]
     },
     "metadata": {},
     "output_type": "display_data"
    },
    {
     "data": {
      "image/png": "[encoded data removed]",
      "text/plain": [
       "<matplotlib.figure.Figure at 0x130a74810>"
      ]
     },
     "metadata": {},
     "output_type": "display_data"
    },
    {
     "data": {
      "image/png": "[encoded data removed]",
      "text/plain": [
       "<matplotlib.figure.Figure at 0x131209590>"
      ]
     },
     "metadata": {},
     "output_type": "display_data"
    },
    {
     "data": {
      "image/png": "[encoded data removed]",
      "text/plain": [
       "<matplotlib.figure.Figure at 0x13134f050>"
      ]
     },
     "metadata": {},
     "output_type": "display_data"
    },
    {
     "data": {
      "image/png": "[encoded data removed]",
      "text/plain": [
       "<matplotlib.figure.Figure at 0x3cd0f8f50>"
      ]
     },
     "metadata": {},
     "output_type": "display_data"
    }
   ],
   "source": [
    "elements = set()\n",
    "for element_list in biz_df['categories']:\n",
    "    elements = elements.union(set(element_list))\n",
    "    \n",
    "category_dist = {key:[] for key in elements}\n",
    "for i in range(len(biz_df)):\n",
    "    row = biz_df.ix[i]\n",
    "    star = row['stars']\n",
    "    cats = row['categories']\n",
    "    for cat in cats:\n",
    "        category_dist[cat].append(star)\n",
    "\n",
    "import matplotlib.pyplot as plt\n",
    "for category in category_dist.keys():\n",
    "    distribution = category_dist[category]\n",
    "    if len(distribution) > 1:\n",
    "        plt.hist(distribution)\n",
    "        plt.xlabel('{0} stars'.format(category))\n",
    "        plt.ylabel('Num Stars')\n",
    "        plt.show()\n",
    "    else:\n",
    "        print(\"Category {0} only has 1 data point. That point is: {1}\".format(category,distribution[0]))"
   ]
  },
  {
   "cell_type": "markdown",
   "metadata": {},
   "source": [
    "## Exploratory Statistics on Review Text\n"
   ]
  },
  {
   "cell_type": "markdown",
   "metadata": {},
   "source": [
    "Here we explore whether there is any pattern between the number of words in reviews to the  rating of review. We also generate a word cloud of the most frequent words appearing in reviews. "
   ]
  },
  {
   "cell_type": "markdown",
   "metadata": {},
   "source": [
    "###Correlation between Rating and Review Size?\n"
   ]
  },
  {
   "cell_type": "markdown",
   "metadata": {},
   "source": [
    "First, we randomly sample some reviews from the reviews dataset. Using these reviews, we generate a scatterplot of reviews, with the X axis being the number of words in that review and the Y axis being the rating for that review. We chose a random sample of reviews just to reduce computation time in this exploratory analysis.\n",
    "\n",
    "The scatterplot seem to show no general pattern or correlation between size of text and rating. At each rating there seem to be reviews across a wide range of sizes. However, 2 cells down, you will see the average number of words in ratings that have 1, 2, 3, 4, or 5 stars. It is interesting that the average is lowest for 5 star ratings and highest for 1 star ratings, with the average words increasing as the rating gets worse."
   ]
  },
  {
   "cell_type": "code",
   "execution_count": null,
   "metadata": {
    "collapsed": true
   },
   "outputs": [],
   "source": [
    "#This code is used to generate the scatterplot and averages in the cell below it\n",
    "\n",
    "counts = []\n",
    "ratings = []\n",
    "averages = dict()\n",
    "numratings = dict()\n",
    "\n",
    "import numpy as np\n",
    "random_indices = np.random.choice(len(review_df), 100000)\n",
    "\n",
    "for index in random_indices:\n",
    "    count = len(review_df.ix[index, 'text'].encode('utf8').split())\n",
    "    counts.append(count)\n",
    "    ratings.append(review_df.ix[index, 'stars'])\n",
    "    if review_df.ix[index, 'stars'] in averages.keys():\n",
    "        averages[review_df.ix[index, 'stars']] += count\n",
    "        numratings[review_df.ix[index, 'stars']] += 1\n",
    "    else:\n",
    "        averages[review_df.ix[index, 'stars']] = count\n",
    "        numratings[review_df.ix[index, 'stars']] = 1"
   ]
  },
  {
   "cell_type": "code",
   "execution_count": null,
   "metadata": {
    "collapsed": true
   },
   "outputs": [],
   "source": [
    "import numpy as np\n",
    "import matplotlib.pyplot as plt\n",
    "\n",
    "x = np.array(counts)\n",
    "y = np.array(ratings)\n",
    "plt.xlabel(\"Number of words in review\")\n",
    "plt.ylabel(\"Review rating\")\n",
    "plt.scatter(x, y)\n",
    "plt.show()"
   ]
  },
  {
   "cell_type": "code",
   "execution_count": null,
   "metadata": {
    "collapsed": true
   },
   "outputs": [],
   "source": [
    "for elem in numratings:\n",
    "    print \"Average number of words for a rating with \" + str(elem) + \" stars is: \" + str(averages[elem]/float(numratings[elem]))\n"
   ]
  },
  {
   "cell_type": "markdown",
   "metadata": {},
   "source": [
    "###Word cloud of words that appear in reviews"
   ]
  },
  {
   "cell_type": "code",
   "execution_count": null,
   "metadata": {
    "collapsed": true
   },
   "outputs": [],
   "source": [
    "f = open('review_words', 'w')\n",
    "print \"We have a total of \" + str(len(review_df)) + \" reviews\"\n",
    "\n",
    "#Choosing a random sample of .01 of the reviews to generate word cloud to see word patterns in reviews.\n",
    "review_df_sample =  review_df.sample(frac=0.01)\n",
    "\n",
    "#Writing words for word clound into a file\n",
    "for index, row in review_df_sample.iterrows():\n",
    "    text = row['text'].encode('utf8')\n",
    "    line = text.split()\n",
    "    for elem in line:\n",
    "        if len(elem) >= 3:\n",
    "            f.write(elem)\n",
    "            f.write(\" \")"
   ]
  },
  {
   "cell_type": "code",
   "execution_count": null,
   "metadata": {
    "collapsed": true
   },
   "outputs": [],
   "source": [
    "from wordcloud import WordCloud\n",
    "\n",
    "# Read the whole text from file.\n",
    "text = open('review_words', 'r').read()\n",
    "\n",
    "from os import path\n",
    "from wordcloud import WordCloud\n",
    "\n",
    "# Generate a word cloud image\n",
    "wordcloud = WordCloud().generate(text)\n",
    "\n",
    "# Display the generated image:\n",
    "# the matplotlib way:\n",
    "import matplotlib.pyplot as plt\n",
    "plt.imshow(wordcloud)\n"
   ]
  },
  {
   "cell_type": "markdown",
   "metadata": {
    "collapsed": true
   },
   "source": [
    "## V. Surprises (4 Points)"
   ]
  },
  {
   "cell_type": "markdown",
   "metadata": {},
   "source": [
    "One of the surprises during our analysis was the word cloud. We noticed that positive words such as \"good\" and \"nice\" appeared large in the word cloud (indicating that those words were common) where as negative words were smaller. This seems to indicte that reviews are more often positive than negative, but this could also be a false assumption.\n",
    "\n",
    "Another surprise during the analysis was the distribution of the number of reviews per restaurant. We found that there were many restaurant with very few reviews and very few restaurants with many reviews. This was surprising as we expected more of a bell curve distribution than something skewed so far right."
   ]
  },
  {
   "cell_type": "markdown",
   "metadata": {},
   "source": [
    "## VI. Next Steps, any Obstacles (2 Points)"
   ]
  },
  {
   "cell_type": "markdown",
   "metadata": {},
   "source": [
    "Our next steps from this point will be more specific data analysis toward our goals after tailoring our goals based on results of this initial analysis. Using more formal data analysis we will decide features and use nlkt or stanford nlp to analyze the content of text reviews. Then we will train a classifier to be able to predict a business's rating based on the content of its reviews. To do this we will use scikit-learn a library that has heavily optimized implementations of various classifiers. Finally we will visualize results using D3.js.\n",
    "\n",
    "One potential obstacle we anticipate is the massive number of reviews contained in our dataset. To process the sheer amount of words we might require Spark. For our initial data exploration we had to use random samples of reviews in certain cases due to the massive computation time."
   ]
  },
  {
   "cell_type": "code",
   "execution_count": null,
   "metadata": {
    "collapsed": true
   },
   "outputs": [],
   "source": []
  }
 ],
 "metadata": {
  "kernelspec": {
   "display_name": "Python 2",
   "language": "python",
   "name": "python2"
  },
  "language_info": {
   "codemirror_mode": {
    "name": "ipython",
    "version": 2
   },
   "file_extension": ".py",
   "mimetype": "text/x-python",
   "name": "python",
   "nbconvert_exporter": "python",
   "pygments_lexer": "ipython2",
   "version": "2.7.10"
  }
 },
 "nbformat": 4,
 "nbformat_minor": 0
}
