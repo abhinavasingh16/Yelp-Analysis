{
 "cells": [
  {
   "cell_type": "code",
   "execution_count": 1,
   "metadata": {
    "collapsed": true
   },
   "outputs": [],
   "source": [
    "import json\n",
    "import pandas as pd\n",
    "import sys\n",
    "import os"
   ]
  },
  {
   "cell_type": "code",
   "execution_count": 3,
   "metadata": {
    "collapsed": false
   },
   "outputs": [],
   "source": [
    "#Load Biz Dataset into DF\n",
    "biz_data = []\n",
    "biz_fn = 'yelp_dataset_challenge_academic_dataset/yelp_academic_dataset_business.json'\n",
    "with open(biz_fn) as data_file:\n",
    "    for line in data_file:\n",
    "        biz_data.append(json.loads(line))\n",
    "biz_df = pd.DataFrame(biz_data)"
   ]
  },
  {
   "cell_type": "code",
   "execution_count": 5,
   "metadata": {
    "collapsed": false
   },
   "outputs": [],
   "source": [
    "#Load Checkin Dataset into DF\n",
    "checkin_data = []\n",
    "checkin_fn = 'yelp_dataset_challenge_academic_dataset/yelp_academic_dataset_checkin.json'\n",
    "with open(checkin_fn) as data_file:\n",
    "    for line in data_file:\n",
    "        checkin_data.append(json.loads(line))\n",
    "checkin_df = pd.DataFrame(checkin_data)"
   ]
  },
  {
   "cell_type": "code",
   "execution_count": 6,
   "metadata": {
    "collapsed": true
   },
   "outputs": [],
   "source": [
    "#Load review dataset into df\n",
    "review_data = []\n",
    "review_fn = 'yelp_dataset_challenge_academic_dataset/yelp_academic_dataset_review.json'\n",
    "with open(review_fn) as data_file:\n",
    "    for line in data_file:\n",
    "        review_data.append(json.loads(line))\n",
    "review_df = pd.DataFrame(review_data)"
   ]
  },
  {
   "cell_type": "code",
   "execution_count": 7,
   "metadata": {
    "collapsed": true
   },
   "outputs": [],
   "source": [
    "#Load tip dataset into df\n",
    "tip_data = []\n",
    "tip_fn = 'yelp_dataset_challenge_academic_dataset/yelp_academic_dataset_tip.json'\n",
    "with open(tip_fn) as data_file:\n",
    "    for line in data_file:\n",
    "        tip_data.append(json.loads(line))\n",
    "tip_df = pd.DataFrame(tip_data)"
   ]
  },
  {
   "cell_type": "code",
   "execution_count": 8,
   "metadata": {
    "collapsed": true
   },
   "outputs": [],
   "source": [
    "#Load user dataset into df\n",
    "user_data = []\n",
    "user_fn = 'yelp_dataset_challenge_academic_dataset/yelp_academic_dataset_user.json'\n",
    "with open(user_fn) as data_file:\n",
    "    for line in data_file:\n",
    "        user_data.append(json.loads(line))\n",
    "user_df = pd.DataFrame(user_data)"
   ]
  },
  {
   "cell_type": "code",
   "execution_count": null,
   "metadata": {
    "collapsed": true
   },
   "outputs": [],
   "source": []
  }
 ],
 "metadata": {
  "kernelspec": {
   "display_name": "Python 2",
   "language": "python",
   "name": "python2"
  },
  "language_info": {
   "codemirror_mode": {
    "name": "ipython",
    "version": 2
   },
   "file_extension": ".py",
   "mimetype": "text/x-python",
   "name": "python",
   "nbconvert_exporter": "python",
   "pygments_lexer": "ipython2",
   "version": "2.7.10"
  }
 },
 "nbformat": 4,
 "nbformat_minor": 0
}
