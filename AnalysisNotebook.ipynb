{
 "cells": [
  {
   "cell_type": "markdown",
   "metadata": {},
   "source": [
    "##Project Preliminary Data Analysis"
   ]
  },
  {
   "cell_type": "markdown",
   "metadata": {},
   "source": [
    "###Problem Statement and Background (2 points)\n",
    "A high-level statement of the problem you intend to address, e.g. finding correspondences between neural recordings and DNN layers. Try to translate the high-level into specific questions if you can.\n",
    "Give background on the problem you are solving: why it is interesting, who is interested, what is known, some references about it, etc."
   ]
  },
  {
   "cell_type": "markdown",
   "metadata": {},
   "source": [
    "###The Data Source(s) You Are Using (2 points)\n",
    "Describe the data source(s) you have. How much data you have now, and how much you expect to use for your final analysis. We will need that information soon so we can get the necessary data to you."
   ]
  },
  {
   "cell_type": "markdown",
   "metadata": {},
   "source": [
    "###Data Joining/Cleaning You Did (4 points)\n",
    "If data is being joined, describe the joining process and any problems with it - explain the metric used for fuzzy joins.\n",
    "Explain how you will handle missing or duplicate keys. Describe the tools you used to examine/repair/clean the data.\n",
    "If you found any statistical anomalies last time, explain how you plan to deal with them.\n"
   ]
  },
  {
   "cell_type": "markdown",
   "metadata": {},
   "source": [
    "###Analysis Approach (3 points)\n",
    "Describe what analysis you are doing: This will probably comprise:\n",
    "Featurization: Explain how you generated features from the raw data. e.g. thresholding to produce binary features, binning, tf-idf, multinomial -> multiple binary features (one-hot encoding). Describe any value transformations you did, e.g. histogram normalization.\n",
    "Modeling: Which machine learning models did you try? Which do you plan to try in the future?\n",
    "Performance measurement: How will you evaluate your model and improve featurization etc."
   ]
  },
  {
   "cell_type": "markdown",
   "metadata": {},
   "source": [
    "###Preliminary Results (6 Points)\n",
    "Summarize the results you have so far:"
   ]
  },
  {
   "cell_type": "code",
   "execution_count": null,
   "metadata": {
    "collapsed": true
   },
   "outputs": [],
   "source": []
  }
 ],
 "metadata": {
  "kernelspec": {
   "display_name": "Python 2",
   "language": "python",
   "name": "python2"
  },
  "language_info": {
   "codemirror_mode": {
    "name": "ipython",
    "version": 2
   },
   "file_extension": ".py",
   "mimetype": "text/x-python",
   "name": "python",
   "nbconvert_exporter": "python",
   "pygments_lexer": "ipython2",
   "version": "2.7.10"
  }
 },
 "nbformat": 4,
 "nbformat_minor": 0
}
